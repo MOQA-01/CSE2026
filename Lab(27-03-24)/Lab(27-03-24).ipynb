{
  "nbformat": 4,
  "nbformat_minor": 0,
  "metadata": {
    "colab": {
      "private_outputs": true,
      "provenance": []
    },
    "kernelspec": {
      "name": "python3",
      "display_name": "Python 3"
    },
    "language_info": {
      "name": "python"
    }
  },
  "cells": [
    {
      "cell_type": "code",
      "execution_count": null,
      "metadata": {
        "id": "fM12FaQARGyj"
      },
      "outputs": [],
      "source": [
        "import pandas as pd"
      ]
    },
    {
      "cell_type": "code",
      "source": [
        "df=pd.read_csv('/content/train .csv')\n",
        "df"
      ],
      "metadata": {
        "id": "nriErD8xRS27"
      },
      "execution_count": null,
      "outputs": []
    },
    {
      "cell_type": "code",
      "source": [
        "df.dtypes"
      ],
      "metadata": {
        "id": "hSKKLwkARqkD"
      },
      "execution_count": null,
      "outputs": []
    },
    {
      "cell_type": "code",
      "source": [
        "df.describe()"
      ],
      "metadata": {
        "id": "q20PdIMfR_W8"
      },
      "execution_count": null,
      "outputs": []
    },
    {
      "cell_type": "code",
      "source": [
        "df.isna().sum()"
      ],
      "metadata": {
        "id": "CUeXtswQSQqy"
      },
      "execution_count": null,
      "outputs": []
    },
    {
      "cell_type": "code",
      "source": [
        "age_mean_value=df['Age'].mean()\n",
        "df['Age']=df['Age'].fillna(age_mean_value)"
      ],
      "metadata": {
        "id": "ytA7ubHTS-2C"
      },
      "execution_count": null,
      "outputs": []
    },
    {
      "cell_type": "code",
      "source": [
        "df.drop(\"Sex\",axis=1,inplace=True)"
      ],
      "metadata": {
        "id": "JPBKfLCXT5jp"
      },
      "execution_count": null,
      "outputs": []
    },
    {
      "cell_type": "code",
      "source": [
        "df.head()"
      ],
      "metadata": {
        "id": "2gejZbHZUUId"
      },
      "execution_count": null,
      "outputs": []
    },
    {
      "cell_type": "code",
      "source": [
        "filtered_age = df[df.Age>40]\n",
        "filtered_age"
      ],
      "metadata": {
        "id": "0TNYiaZMUssg"
      },
      "execution_count": null,
      "outputs": []
    },
    {
      "cell_type": "code",
      "source": [
        "sorted_passengers=df.sort_values('Name',ascending=True,kind='heapsort')"
      ],
      "metadata": {
        "id": "tJrP-VJDVLrZ"
      },
      "execution_count": null,
      "outputs": []
    },
    {
      "cell_type": "code",
      "source": [
        "sorted_passengers.head(15)"
      ],
      "metadata": {
        "id": "doFbHW7HV9u5"
      },
      "execution_count": null,
      "outputs": []
    },
    {
      "cell_type": "code",
      "source": [
        "merged_df=pd.merge(df.head(2),df.tail(2),how='outer',indicator=True)\n",
        "merged_df"
      ],
      "metadata": {
        "id": "5m64GA5DWdeX"
      },
      "execution_count": null,
      "outputs": []
    },
    {
      "cell_type": "code",
      "source": [
        "group_df=df.groupby('Name')\n",
        "group_df"
      ],
      "metadata": {
        "id": "M7ST0MS_XZoT"
      },
      "execution_count": null,
      "outputs": []
    }
  ]
}
